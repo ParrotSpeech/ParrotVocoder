{
 "cells": [
  {
   "cell_type": "code",
   "execution_count": 2,
   "id": "804d8447",
   "metadata": {},
   "outputs": [
    {
     "name": "stdout",
     "output_type": "stream",
     "text": [
      "Collecting onnxruntime\n",
      "  Downloading onnxruntime-1.22.1-cp312-cp312-macosx_13_0_universal2.whl.metadata (4.6 kB)\n",
      "Collecting coloredlogs (from onnxruntime)\n",
      "  Downloading coloredlogs-15.0.1-py2.py3-none-any.whl.metadata (12 kB)\n",
      "Collecting flatbuffers (from onnxruntime)\n",
      "  Downloading flatbuffers-25.2.10-py2.py3-none-any.whl.metadata (875 bytes)\n",
      "Requirement already satisfied: numpy>=1.21.6 in /opt/anaconda3/envs/DeepPhaseSubmission/lib/python3.12/site-packages (from onnxruntime) (1.26.4)\n",
      "Requirement already satisfied: packaging in /opt/anaconda3/envs/DeepPhaseSubmission/lib/python3.12/site-packages (from onnxruntime) (24.1)\n",
      "Requirement already satisfied: protobuf in /opt/anaconda3/envs/DeepPhaseSubmission/lib/python3.12/site-packages (from onnxruntime) (4.25.3)\n",
      "Requirement already satisfied: sympy in /opt/anaconda3/envs/DeepPhaseSubmission/lib/python3.12/site-packages (from onnxruntime) (1.13.2)\n",
      "Collecting humanfriendly>=9.1 (from coloredlogs->onnxruntime)\n",
      "  Downloading humanfriendly-10.0-py2.py3-none-any.whl.metadata (9.2 kB)\n",
      "Requirement already satisfied: mpmath<1.4,>=1.1.0 in /opt/anaconda3/envs/DeepPhaseSubmission/lib/python3.12/site-packages (from sympy->onnxruntime) (1.3.0)\n",
      "Downloading onnxruntime-1.22.1-cp312-cp312-macosx_13_0_universal2.whl (34.3 MB)\n",
      "\u001b[2K   \u001b[90m━━━━━━━━━━━━━━━━━━━━━━━━━━━━━━━━━━━━━━━━\u001b[0m \u001b[32m34.3/34.3 MB\u001b[0m \u001b[31m38.3 MB/s\u001b[0m eta \u001b[36m0:00:00\u001b[0m00:01\u001b[0m00:01\u001b[0m\n",
      "\u001b[?25hDownloading coloredlogs-15.0.1-py2.py3-none-any.whl (46 kB)\n",
      "Downloading flatbuffers-25.2.10-py2.py3-none-any.whl (30 kB)\n",
      "Downloading humanfriendly-10.0-py2.py3-none-any.whl (86 kB)\n",
      "Installing collected packages: flatbuffers, humanfriendly, coloredlogs, onnxruntime\n",
      "Successfully installed coloredlogs-15.0.1 flatbuffers-25.2.10 humanfriendly-10.0 onnxruntime-1.22.1\n"
     ]
    }
   ],
   "source": [
    "!pip install onnxruntime"
   ]
  },
  {
   "cell_type": "code",
   "execution_count": 3,
   "id": "65d5e48d",
   "metadata": {},
   "outputs": [],
   "source": [
    "import torch\n",
    "import json\n",
    "import torch.onnx\n",
    "import onnx\n",
    "import onnxruntime as ort\n",
    "import numpy as np"
   ]
  },
  {
   "cell_type": "code",
   "execution_count": 4,
   "id": "b2a1afb0",
   "metadata": {},
   "outputs": [
    {
     "data": {
      "text/plain": [
       "{'resblock': '2',\n",
       " 'num_gpus': 0,\n",
       " 'batch_size': 16,\n",
       " 'learning_rate': 0.0002,\n",
       " 'adam_b1': 0.8,\n",
       " 'adam_b2': 0.99,\n",
       " 'lr_decay': 0.999,\n",
       " 'seed': 1234,\n",
       " 'upsample_rates': [8, 8, 4],\n",
       " 'upsample_kernel_sizes': [16, 16, 8],\n",
       " 'upsample_initial_channel': 256,\n",
       " 'resblock_kernel_sizes': [3, 5, 7],\n",
       " 'resblock_dilation_sizes': [[1, 2], [2, 6], [3, 12]],\n",
       " 'resblock_initial_channel': 128,\n",
       " 'segment_size': 8192,\n",
       " 'num_mels': 80,\n",
       " 'num_freq': 1025,\n",
       " 'n_fft': 1024,\n",
       " 'hop_size': 256,\n",
       " 'win_size': 1024,\n",
       " 'sampling_rate': 22050,\n",
       " 'fmin': 0,\n",
       " 'fmax': 8000,\n",
       " 'fmax_loss': None,\n",
       " 'num_workers': 4,\n",
       " 'dist_config': {'dist_backend': 'nccl',\n",
       "  'dist_url': 'tcp://localhost:54321',\n",
       "  'world_size': 1}}"
      ]
     },
     "execution_count": 4,
     "metadata": {},
     "output_type": "execute_result"
    }
   ],
   "source": [
    "# Load configuration\n",
    "with open(\"./pretrain/config.json\", \"r\") as f:\n",
    "    config = json.load(f)\n",
    "    \n",
    "config"
   ]
  },
  {
   "cell_type": "code",
   "execution_count": null,
   "id": "11fc7a2d",
   "metadata": {},
   "outputs": [
    {
     "name": "stdout",
     "output_type": "stream",
     "text": [
      "{'resblock': '2', 'num_gpus': 0, 'batch_size': 16, 'learning_rate': 0.0002, 'adam_b1': 0.8, 'adam_b2': 0.99, 'lr_decay': 0.999, 'seed': 1234, 'upsample_rates': [8, 8, 4], 'upsample_kernel_sizes': [16, 16, 8], 'upsample_initial_channel': 256, 'resblock_kernel_sizes': [3, 5, 7], 'resblock_dilation_sizes': [[1, 2], [2, 6], [3, 12]], 'resblock_initial_channel': 128, 'segment_size': 8192, 'num_mels': 80, 'num_freq': 1025, 'n_fft': 1024, 'hop_size': 256, 'win_size': 1024, 'sampling_rate': 22050, 'fmin': 0, 'fmax': 8000, 'fmax_loss': None, 'num_workers': 4, 'dist_config': {'dist_backend': 'nccl', 'dist_url': 'tcp://localhost:54321', 'world_size': 1}}\n"
     ]
    },
    {
     "data": {
      "text/plain": [
       "{'resblock': '2',\n",
       " 'num_gpus': 0,\n",
       " 'batch_size': 16,\n",
       " 'learning_rate': 0.0002,\n",
       " 'adam_b1': 0.8,\n",
       " 'adam_b2': 0.99,\n",
       " 'lr_decay': 0.999,\n",
       " 'seed': 1234,\n",
       " 'upsample_rates': [8, 8, 4],\n",
       " 'upsample_kernel_sizes': [16, 16, 8],\n",
       " 'upsample_initial_channel': 256,\n",
       " 'resblock_kernel_sizes': [3, 5, 7],\n",
       " 'resblock_dilation_sizes': [[1, 2], [2, 6], [3, 12]],\n",
       " 'resblock_initial_channel': 128,\n",
       " 'segment_size': 8192,\n",
       " 'num_mels': 80,\n",
       " 'num_freq': 1025,\n",
       " 'n_fft': 1024,\n",
       " 'hop_size': 256,\n",
       " 'win_size': 1024,\n",
       " 'sampling_rate': 22050,\n",
       " 'fmin': 0,\n",
       " 'fmax': 8000,\n",
       " 'fmax_loss': None,\n",
       " 'num_workers': 4,\n",
       " 'dist_config': {'dist_backend': 'nccl',\n",
       "  'dist_url': 'tcp://localhost:54321',\n",
       "  'world_size': 1}}"
      ]
     },
     "execution_count": 9,
     "metadata": {},
     "output_type": "execute_result"
    }
   ],
   "source": [
    "import json\n",
    "with open(\"./pretrain/config.json\") as f:\n",
    "    config = json.load(f)\n",
    "\n",
    "print(config)\n",
    "\n",
    "# Load config first (usually stored in a .json file)\n",
    "dict(config)"
   ]
  },
  {
   "cell_type": "code",
   "execution_count": 6,
   "id": "64c77cc9",
   "metadata": {},
   "outputs": [],
   "source": [
    "from models import Generator"
   ]
  },
  {
   "cell_type": "code",
   "execution_count": 10,
   "id": "7899dd7c",
   "metadata": {},
   "outputs": [],
   "source": [
    "import importlib\n",
    "import models\n",
    "importlib.reload(models)\n",
    "from models import Generator"
   ]
  },
  {
   "cell_type": "code",
   "execution_count": 12,
   "id": "079e0596",
   "metadata": {},
   "outputs": [
    {
     "name": "stdout",
     "output_type": "stream",
     "text": [
      "sfsdf {'resblock': '2', 'num_gpus': 0, 'batch_size': 16, 'learning_rate': 0.0002, 'adam_b1': 0.8, 'adam_b2': 0.99, 'lr_decay': 0.999, 'seed': 1234, 'upsample_rates': [8, 8, 4], 'upsample_kernel_sizes': [16, 16, 8], 'upsample_initial_channel': 256, 'resblock_kernel_sizes': [3, 5, 7], 'resblock_dilation_sizes': [[1, 2], [2, 6], [3, 12]], 'resblock_initial_channel': 128, 'segment_size': 8192, 'num_mels': 80, 'num_freq': 1025, 'n_fft': 1024, 'hop_size': 256, 'win_size': 1024, 'sampling_rate': 22050, 'fmin': 0, 'fmax': 8000, 'fmax_loss': None, 'num_workers': 4, 'dist_config': {'dist_backend': 'nccl', 'dist_url': 'tcp://localhost:54321', 'world_size': 1}}\n"
     ]
    }
   ],
   "source": [
    "generator = Generator(config)"
   ]
  },
  {
   "cell_type": "code",
   "execution_count": null,
   "id": "8577e8b5",
   "metadata": {},
   "outputs": [],
   "source": []
  },
  {
   "cell_type": "code",
   "execution_count": null,
   "id": "2c992b8f",
   "metadata": {},
   "outputs": [],
   "source": []
  },
  {
   "cell_type": "code",
   "execution_count": 17,
   "id": "aa35ee37",
   "metadata": {},
   "outputs": [
    {
     "name": "stderr",
     "output_type": "stream",
     "text": [
      "/var/folders/jp/rdbm5vdn37d4r9b4jfc_k23m0000gn/T/ipykernel_88734/1877114018.py:1: FutureWarning: You are using `torch.load` with `weights_only=False` (the current default value), which uses the default pickle module implicitly. It is possible to construct malicious pickle data which will execute arbitrary code during unpickling (See https://github.com/pytorch/pytorch/blob/main/SECURITY.md#untrusted-models for more details). In a future release, the default value for `weights_only` will be flipped to `True`. This limits the functions that could be executed during unpickling. Arbitrary objects will no longer be allowed to be loaded via this mode unless they are explicitly allowlisted by the user via `torch.serialization.add_safe_globals`. We recommend you start setting `weights_only=True` for any use case where you don't have full control of the loaded file. Please open an issue on GitHub for any issues related to this experimental feature.\n",
      "  checkpoint = torch.load(\"./pretrain/generator_v3\", map_location='cpu')\n"
     ]
    },
    {
     "data": {
      "text/plain": [
       "Generator(\n",
       "  (conv_pre): Conv1d(80, 256, kernel_size=(7,), stride=(1,), padding=(3,))\n",
       "  (ups): ModuleList(\n",
       "    (0): ConvTranspose1d(256, 128, kernel_size=(16,), stride=(8,), padding=(4,))\n",
       "    (1): ConvTranspose1d(128, 64, kernel_size=(16,), stride=(8,), padding=(4,))\n",
       "    (2): ConvTranspose1d(64, 32, kernel_size=(8,), stride=(4,), padding=(2,))\n",
       "  )\n",
       "  (resblocks): ModuleList(\n",
       "    (0): ResBlock2(\n",
       "      (convs): ModuleList(\n",
       "        (0): Conv1d(128, 128, kernel_size=(3,), stride=(1,), padding=(1,))\n",
       "        (1): Conv1d(128, 128, kernel_size=(3,), stride=(1,), padding=(2,), dilation=(2,))\n",
       "      )\n",
       "    )\n",
       "    (1): ResBlock2(\n",
       "      (convs): ModuleList(\n",
       "        (0): Conv1d(128, 128, kernel_size=(5,), stride=(1,), padding=(4,), dilation=(2,))\n",
       "        (1): Conv1d(128, 128, kernel_size=(5,), stride=(1,), padding=(12,), dilation=(6,))\n",
       "      )\n",
       "    )\n",
       "    (2): ResBlock2(\n",
       "      (convs): ModuleList(\n",
       "        (0): Conv1d(128, 128, kernel_size=(7,), stride=(1,), padding=(9,), dilation=(3,))\n",
       "        (1): Conv1d(128, 128, kernel_size=(7,), stride=(1,), padding=(36,), dilation=(12,))\n",
       "      )\n",
       "    )\n",
       "    (3): ResBlock2(\n",
       "      (convs): ModuleList(\n",
       "        (0): Conv1d(64, 64, kernel_size=(3,), stride=(1,), padding=(1,))\n",
       "        (1): Conv1d(64, 64, kernel_size=(3,), stride=(1,), padding=(2,), dilation=(2,))\n",
       "      )\n",
       "    )\n",
       "    (4): ResBlock2(\n",
       "      (convs): ModuleList(\n",
       "        (0): Conv1d(64, 64, kernel_size=(5,), stride=(1,), padding=(4,), dilation=(2,))\n",
       "        (1): Conv1d(64, 64, kernel_size=(5,), stride=(1,), padding=(12,), dilation=(6,))\n",
       "      )\n",
       "    )\n",
       "    (5): ResBlock2(\n",
       "      (convs): ModuleList(\n",
       "        (0): Conv1d(64, 64, kernel_size=(7,), stride=(1,), padding=(9,), dilation=(3,))\n",
       "        (1): Conv1d(64, 64, kernel_size=(7,), stride=(1,), padding=(36,), dilation=(12,))\n",
       "      )\n",
       "    )\n",
       "    (6): ResBlock2(\n",
       "      (convs): ModuleList(\n",
       "        (0): Conv1d(32, 32, kernel_size=(3,), stride=(1,), padding=(1,))\n",
       "        (1): Conv1d(32, 32, kernel_size=(3,), stride=(1,), padding=(2,), dilation=(2,))\n",
       "      )\n",
       "    )\n",
       "    (7): ResBlock2(\n",
       "      (convs): ModuleList(\n",
       "        (0): Conv1d(32, 32, kernel_size=(5,), stride=(1,), padding=(4,), dilation=(2,))\n",
       "        (1): Conv1d(32, 32, kernel_size=(5,), stride=(1,), padding=(12,), dilation=(6,))\n",
       "      )\n",
       "    )\n",
       "    (8): ResBlock2(\n",
       "      (convs): ModuleList(\n",
       "        (0): Conv1d(32, 32, kernel_size=(7,), stride=(1,), padding=(9,), dilation=(3,))\n",
       "        (1): Conv1d(32, 32, kernel_size=(7,), stride=(1,), padding=(36,), dilation=(12,))\n",
       "      )\n",
       "    )\n",
       "  )\n",
       "  (conv_post): Conv1d(32, 1, kernel_size=(7,), stride=(1,), padding=(3,))\n",
       ")"
      ]
     },
     "execution_count": 17,
     "metadata": {},
     "output_type": "execute_result"
    }
   ],
   "source": [
    "checkpoint = torch.load(\"./pretrain/generator_v3\", map_location='cpu')\n",
    "generator.load_state_dict(checkpoint['generator'])\n",
    "generator.eval()"
   ]
  },
  {
   "cell_type": "code",
   "execution_count": 18,
   "id": "bbe6bba8",
   "metadata": {},
   "outputs": [
    {
     "name": "stdout",
     "output_type": "stream",
     "text": [
      "CPU\n"
     ]
    }
   ],
   "source": [
    "import onnxruntime\n",
    "print(onnxruntime.get_device())"
   ]
  },
  {
   "cell_type": "code",
   "execution_count": null,
   "id": "31c9f24f",
   "metadata": {},
   "outputs": [],
   "source": []
  }
 ],
 "metadata": {
  "kernelspec": {
   "display_name": "DeepPhaseSubmission",
   "language": "python",
   "name": "python3"
  },
  "language_info": {
   "codemirror_mode": {
    "name": "ipython",
    "version": 3
   },
   "file_extension": ".py",
   "mimetype": "text/x-python",
   "name": "python",
   "nbconvert_exporter": "python",
   "pygments_lexer": "ipython3",
   "version": "3.12.5"
  }
 },
 "nbformat": 4,
 "nbformat_minor": 5
}
