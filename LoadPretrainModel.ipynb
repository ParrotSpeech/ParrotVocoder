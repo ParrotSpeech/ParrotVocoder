{
 "cells": [
  {
   "cell_type": "code",
   "execution_count": 1,
   "id": "65d5e48d",
   "metadata": {},
   "outputs": [],
   "source": [
    "import torch\n",
    "import json\n",
    "import torch.onnx\n",
    "import onnx\n",
    "import onnxruntime as ort\n",
    "import numpy as np"
   ]
  },
  {
   "cell_type": "code",
   "execution_count": 2,
   "id": "b2a1afb0",
   "metadata": {},
   "outputs": [
    {
     "data": {
      "text/plain": [
       "{'resblock': '2',\n",
       " 'num_gpus': 0,\n",
       " 'batch_size': 16,\n",
       " 'learning_rate': 0.0002,\n",
       " 'adam_b1': 0.8,\n",
       " 'adam_b2': 0.99,\n",
       " 'lr_decay': 0.999,\n",
       " 'seed': 1234,\n",
       " 'upsample_rates': [8, 8, 4],\n",
       " 'upsample_kernel_sizes': [16, 16, 8],\n",
       " 'upsample_initial_channel': 256,\n",
       " 'resblock_kernel_sizes': [3, 5, 7],\n",
       " 'resblock_dilation_sizes': [[1, 2], [2, 6], [3, 12]],\n",
       " 'resblock_initial_channel': 128,\n",
       " 'segment_size': 8192,\n",
       " 'num_mels': 80,\n",
       " 'num_freq': 1025,\n",
       " 'n_fft': 1024,\n",
       " 'hop_size': 256,\n",
       " 'win_size': 1024,\n",
       " 'sampling_rate': 22050,\n",
       " 'fmin': 0,\n",
       " 'fmax': 8000,\n",
       " 'fmax_loss': None,\n",
       " 'num_workers': 4,\n",
       " 'dist_config': {'dist_backend': 'nccl',\n",
       "  'dist_url': 'tcp://localhost:54321',\n",
       "  'world_size': 1}}"
      ]
     },
     "execution_count": 2,
     "metadata": {},
     "output_type": "execute_result"
    }
   ],
   "source": [
    "# Load configuration\n",
    "with open(\"./pretrain/config.json\", \"r\") as f:\n",
    "    config = json.load(f)\n",
    "    \n",
    "config"
   ]
  },
  {
   "cell_type": "code",
   "execution_count": 9,
   "id": "11fc7a2d",
   "metadata": {},
   "outputs": [
    {
     "name": "stdout",
     "output_type": "stream",
     "text": [
      "{'resblock': '2', 'num_gpus': 0, 'batch_size': 16, 'learning_rate': 0.0002, 'adam_b1': 0.8, 'adam_b2': 0.99, 'lr_decay': 0.999, 'seed': 1234, 'upsample_rates': [8, 8, 4], 'upsample_kernel_sizes': [16, 16, 8], 'upsample_initial_channel': 256, 'resblock_kernel_sizes': [3, 5, 7], 'resblock_dilation_sizes': [[1, 2], [2, 6], [3, 12]], 'resblock_initial_channel': 128, 'segment_size': 8192, 'num_mels': 80, 'num_freq': 1025, 'n_fft': 1024, 'hop_size': 256, 'win_size': 1024, 'sampling_rate': 22050, 'fmin': 0, 'fmax': 8000, 'fmax_loss': None, 'num_workers': 4, 'dist_config': {'dist_backend': 'nccl', 'dist_url': 'tcp://localhost:54321', 'world_size': 1}}\n"
     ]
    },
    {
     "data": {
      "text/plain": [
       "{'resblock': '2',\n",
       " 'num_gpus': 0,\n",
       " 'batch_size': 16,\n",
       " 'learning_rate': 0.0002,\n",
       " 'adam_b1': 0.8,\n",
       " 'adam_b2': 0.99,\n",
       " 'lr_decay': 0.999,\n",
       " 'seed': 1234,\n",
       " 'upsample_rates': [8, 8, 4],\n",
       " 'upsample_kernel_sizes': [16, 16, 8],\n",
       " 'upsample_initial_channel': 256,\n",
       " 'resblock_kernel_sizes': [3, 5, 7],\n",
       " 'resblock_dilation_sizes': [[1, 2], [2, 6], [3, 12]],\n",
       " 'resblock_initial_channel': 128,\n",
       " 'segment_size': 8192,\n",
       " 'num_mels': 80,\n",
       " 'num_freq': 1025,\n",
       " 'n_fft': 1024,\n",
       " 'hop_size': 256,\n",
       " 'win_size': 1024,\n",
       " 'sampling_rate': 22050,\n",
       " 'fmin': 0,\n",
       " 'fmax': 8000,\n",
       " 'fmax_loss': None,\n",
       " 'num_workers': 4,\n",
       " 'dist_config': {'dist_backend': 'nccl',\n",
       "  'dist_url': 'tcp://localhost:54321',\n",
       "  'world_size': 1}}"
      ]
     },
     "execution_count": 9,
     "metadata": {},
     "output_type": "execute_result"
    }
   ],
   "source": [
    "from models import Generator\n",
    "\n",
    "\n",
    "import json\n",
    "with open(\"./pretrain/config.json\") as f:\n",
    "    config = json.load(f)\n",
    "\n",
    "print(config)\n",
    "\n",
    "# Load config first (usually stored in a .json file)\n",
    "dict(config)"
   ]
  },
  {
   "cell_type": "code",
   "execution_count": 10,
   "id": "079e0596",
   "metadata": {},
   "outputs": [
    {
     "name": "stdout",
     "output_type": "stream",
     "text": [
      "sfsdf {'resblock': '2', 'num_gpus': 0, 'batch_size': 16, 'learning_rate': 0.0002, 'adam_b1': 0.8, 'adam_b2': 0.99, 'lr_decay': 0.999, 'seed': 1234, 'upsample_rates': [8, 8, 4], 'upsample_kernel_sizes': [16, 16, 8], 'upsample_initial_channel': 256, 'resblock_kernel_sizes': [3, 5, 7], 'resblock_dilation_sizes': [[1, 2], [2, 6], [3, 12]], 'resblock_initial_channel': 128, 'segment_size': 8192, 'num_mels': 80, 'num_freq': 1025, 'n_fft': 1024, 'hop_size': 256, 'win_size': 1024, 'sampling_rate': 22050, 'fmin': 0, 'fmax': 8000, 'fmax_loss': None, 'num_workers': 4, 'dist_config': {'dist_backend': 'nccl', 'dist_url': 'tcp://localhost:54321', 'world_size': 1}}\n"
     ]
    },
    {
     "ename": "AttributeError",
     "evalue": "'dict' object has no attribute 'resblock_kernel_sizes'",
     "output_type": "error",
     "traceback": [
      "\u001b[31m---------------------------------------------------------------------------\u001b[39m",
      "\u001b[31mAttributeError\u001b[39m                            Traceback (most recent call last)",
      "\u001b[36mCell\u001b[39m\u001b[36m \u001b[39m\u001b[32mIn[10]\u001b[39m\u001b[32m, line 1\u001b[39m\n\u001b[32m----> \u001b[39m\u001b[32m1\u001b[39m generator = \u001b[43mGenerator\u001b[49m\u001b[43m(\u001b[49m\u001b[43mconfig\u001b[49m\u001b[43m)\u001b[49m\n",
      "\u001b[36mFile \u001b[39m\u001b[32me:\\Workspace\\ParrotVocoder\\parrot-vocoder\\models.py:80\u001b[39m, in \u001b[36mGenerator.__init__\u001b[39m\u001b[34m(self, h)\u001b[39m\n\u001b[32m     78\u001b[39m \u001b[38;5;28mself\u001b[39m.h = h\n\u001b[32m     79\u001b[39m \u001b[38;5;28mprint\u001b[39m(\u001b[33m\"\u001b[39m\u001b[33msfsdf\u001b[39m\u001b[33m\"\u001b[39m, h)\n\u001b[32m---> \u001b[39m\u001b[32m80\u001b[39m \u001b[38;5;28mself\u001b[39m.num_kernels = \u001b[38;5;28mlen\u001b[39m(\u001b[43mh\u001b[49m\u001b[43m.\u001b[49m\u001b[43mresblock_kernel_sizes\u001b[49m)\n\u001b[32m     81\u001b[39m \u001b[38;5;28mself\u001b[39m.num_upsamples = \u001b[38;5;28mlen\u001b[39m(h.upsample_rates)\n\u001b[32m     82\u001b[39m \u001b[38;5;28mself\u001b[39m.conv_pre = weight_norm(Conv1d(\u001b[32m80\u001b[39m, h.upsample_initial_channel, \u001b[32m7\u001b[39m, \u001b[32m1\u001b[39m, padding=\u001b[32m3\u001b[39m))\n",
      "\u001b[31mAttributeError\u001b[39m: 'dict' object has no attribute 'resblock_kernel_sizes'"
     ]
    }
   ],
   "source": [
    "generator = Generator(config)"
   ]
  },
  {
   "cell_type": "code",
   "execution_count": null,
   "id": "2c992b8f",
   "metadata": {},
   "outputs": [],
   "source": []
  },
  {
   "cell_type": "code",
   "execution_count": null,
   "id": "aa35ee37",
   "metadata": {},
   "outputs": [],
   "source": [
    "\n",
    "checkpoint = torch.load(\"/pretrain/generator_v3\", map_location='gpu')\n",
    "generator.load_state_dict(checkpoint['generator'])\n",
    "generator.eval()"
   ]
  },
  {
   "cell_type": "code",
   "execution_count": null,
   "id": "bbe6bba8",
   "metadata": {},
   "outputs": [],
   "source": [
    "import onnxruntime\n",
    "print(onnxruntime.get_device())"
   ]
  },
  {
   "cell_type": "code",
   "execution_count": null,
   "id": "31c9f24f",
   "metadata": {},
   "outputs": [],
   "source": []
  }
 ],
 "metadata": {
  "kernelspec": {
   "display_name": "ParrotVocoder",
   "language": "python",
   "name": "python3"
  },
  "language_info": {
   "codemirror_mode": {
    "name": "ipython",
    "version": 3
   },
   "file_extension": ".py",
   "mimetype": "text/x-python",
   "name": "python",
   "nbconvert_exporter": "python",
   "pygments_lexer": "ipython3",
   "version": "3.13.1"
  }
 },
 "nbformat": 4,
 "nbformat_minor": 5
}
